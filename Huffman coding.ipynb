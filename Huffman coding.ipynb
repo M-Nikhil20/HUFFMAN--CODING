{
 "cells": [
  {
   "cell_type": "code",
   "execution_count": 2,
   "id": "463d8e1f-6e5c-4ffc-8cb8-c1d620591249",
   "metadata": {},
   "outputs": [],
   "source": [
    "input_string = \"huffman coding\""
   ]
  },
  {
   "cell_type": "code",
   "execution_count": 4,
   "id": "056d0ecb-fa8f-49e8-a4b3-ddecbc4bb0db",
   "metadata": {},
   "outputs": [],
   "source": [
    "frequency = {}\n",
    "for char in input_string:\n",
    "    if char in frequency:\n",
    "        frequency[char] += 1\n",
    "    else:\n",
    "        frequency[char] = 1"
   ]
  },
  {
   "cell_type": "code",
   "execution_count": 6,
   "id": "62f836cc-8de5-41e7-9a6d-89cf06ce50c2",
   "metadata": {},
   "outputs": [],
   "source": [
    "nodes = [[char, freq] for char, freq in frequency.items()]"
   ]
  },
  {
   "cell_type": "code",
   "execution_count": 7,
   "id": "b752191a-e0a1-46ee-a57e-29140b5efc39",
   "metadata": {},
   "outputs": [],
   "source": [
    "while len(nodes) > 1:\n",
    "    nodes = sorted(nodes, key=lambda x: x[1])\n",
    "    left = nodes.pop(0)\n",
    "    right = nodes.pop(0)\n",
    "    new_node = [[left, right], left[1] + right[1]]\n",
    "    nodes.append(new_node)"
   ]
  },
  {
   "cell_type": "code",
   "execution_count": 9,
   "id": "b2011f95-03ec-4036-996d-003c02a6076e",
   "metadata": {},
   "outputs": [],
   "source": [
    "huffman_tree = nodes[0]"
   ]
  },
  {
   "cell_type": "code",
   "execution_count": 11,
   "id": "2d2af9bb-94b7-4c99-910c-b700fc4129ec",
   "metadata": {},
   "outputs": [],
   "source": [
    "huffman_codes = {}\n",
    "\n",
    "def generate_codes(tree, code=\"\"):\n",
    "    if isinstance(tree[0], str): \n",
    "        huffman_codes[tree[0]] = code\n",
    "    else:\n",
    "        generate_codes(tree[0][0], code + \"0\")\n",
    "        generate_codes(tree[0][1], code + \"1\")\n",
    "\n",
    "generate_codes(huffman_tree)"
   ]
  },
  {
   "cell_type": "code",
   "execution_count": 12,
   "id": "930a8b4e-8db2-4aa6-b56a-8bc4850975b0",
   "metadata": {},
   "outputs": [
    {
     "name": "stdout",
     "output_type": "stream",
     "text": [
      "Character | Huffman Code\n",
      "-------------------------\n",
      "    i    |    000\n",
      "    g    |    001\n",
      "    f    |    010\n",
      "    n    |    011\n",
      "    h    |    1000\n",
      "    u    |    1001\n",
      "    m    |    1010\n",
      "    a    |    1011\n",
      "         |    1100\n",
      "    c    |    1101\n",
      "    o    |    1110\n",
      "    d    |    1111\n"
     ]
    }
   ],
   "source": [
    "print(\"Character | Huffman Code\")\n",
    "print(\"-------------------------\")\n",
    "for char, code in huffman_codes.items():\n",
    "    print(f\"    {char}    |    {code}\")"
   ]
  },
  {
   "cell_type": "code",
   "execution_count": null,
   "id": "cba22e62-a18a-4825-a4b0-6bd740210c18",
   "metadata": {},
   "outputs": [],
   "source": []
  }
 ],
 "metadata": {
  "kernelspec": {
   "display_name": "Python 3 (ipykernel)",
   "language": "python",
   "name": "python3"
  },
  "language_info": {
   "codemirror_mode": {
    "name": "ipython",
    "version": 3
   },
   "file_extension": ".py",
   "mimetype": "text/x-python",
   "name": "python",
   "nbconvert_exporter": "python",
   "pygments_lexer": "ipython3",
   "version": "3.11.11"
  }
 },
 "nbformat": 4,
 "nbformat_minor": 5
}
